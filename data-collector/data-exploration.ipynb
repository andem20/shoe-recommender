{
 "cells": [
  {
   "cell_type": "code",
   "execution_count": 11,
   "metadata": {},
   "outputs": [],
   "source": [
    "import pandas as pd\n",
    "import hashlib\n",
    "from PIL import Image"
   ]
  },
  {
   "cell_type": "code",
   "execution_count": 15,
   "metadata": {},
   "outputs": [],
   "source": [
    "def calc_md5(image_url: str):\n",
    "    img = Image.open(f\"./data/{image_url}\")\n",
    "    return hashlib.md5(img.tobytes()).hexdigest()"
   ]
  },
  {
   "cell_type": "code",
   "execution_count": 22,
   "metadata": {},
   "outputs": [
    {
     "data": {
      "text/html": [
       "<div>\n",
       "<style scoped>\n",
       "    .dataframe tbody tr th:only-of-type {\n",
       "        vertical-align: middle;\n",
       "    }\n",
       "\n",
       "    .dataframe tbody tr th {\n",
       "        vertical-align: top;\n",
       "    }\n",
       "\n",
       "    .dataframe thead th {\n",
       "        text-align: right;\n",
       "    }\n",
       "</style>\n",
       "<table border=\"1\" class=\"dataframe\">\n",
       "  <thead>\n",
       "    <tr style=\"text-align: right;\">\n",
       "      <th></th>\n",
       "      <th>image_url</th>\n",
       "      <th>label</th>\n",
       "      <th>md5</th>\n",
       "    </tr>\n",
       "  </thead>\n",
       "  <tbody>\n",
       "    <tr>\n",
       "      <th>0</th>\n",
       "      <td>d6540236-5774-4375-8aad-53582b98bb32.jpeg</td>\n",
       "      <td>0</td>\n",
       "      <td>6191699ae559665d149117051c5a0889</td>\n",
       "    </tr>\n",
       "    <tr>\n",
       "      <th>1</th>\n",
       "      <td>db9f7f97-83ff-4629-af51-1710066d3b13.jpeg</td>\n",
       "      <td>0</td>\n",
       "      <td>43e57e275b11a4b5598a2b45bfceee5f</td>\n",
       "    </tr>\n",
       "    <tr>\n",
       "      <th>2</th>\n",
       "      <td>4243da34-6908-4296-95d2-e4d741e63c65.jpeg</td>\n",
       "      <td>1</td>\n",
       "      <td>659381b23d687bfb3a0f94073a4bb10a</td>\n",
       "    </tr>\n",
       "    <tr>\n",
       "      <th>3</th>\n",
       "      <td>44b0a168-495d-4579-a0f5-7832bf1f29ff.webp</td>\n",
       "      <td>0</td>\n",
       "      <td>04d80553a297a036ce6b90b83b5a5a56</td>\n",
       "    </tr>\n",
       "    <tr>\n",
       "      <th>4</th>\n",
       "      <td>7e1ffa0f-c6c1-44db-8f7d-32a5e58aaeed.jpeg</td>\n",
       "      <td>0</td>\n",
       "      <td>2b186584a1f668972a1b760312263be1</td>\n",
       "    </tr>\n",
       "  </tbody>\n",
       "</table>\n",
       "</div>"
      ],
      "text/plain": [
       "                                   image_url  label   \n",
       "0  d6540236-5774-4375-8aad-53582b98bb32.jpeg      0  \\\n",
       "1  db9f7f97-83ff-4629-af51-1710066d3b13.jpeg      0   \n",
       "2  4243da34-6908-4296-95d2-e4d741e63c65.jpeg      1   \n",
       "3  44b0a168-495d-4579-a0f5-7832bf1f29ff.webp      0   \n",
       "4  7e1ffa0f-c6c1-44db-8f7d-32a5e58aaeed.jpeg      0   \n",
       "\n",
       "                                md5  \n",
       "0  6191699ae559665d149117051c5a0889  \n",
       "1  43e57e275b11a4b5598a2b45bfceee5f  \n",
       "2  659381b23d687bfb3a0f94073a4bb10a  \n",
       "3  04d80553a297a036ce6b90b83b5a5a56  \n",
       "4  2b186584a1f668972a1b760312263be1  "
      ]
     },
     "execution_count": 22,
     "metadata": {},
     "output_type": "execute_result"
    }
   ],
   "source": [
    "df = pd.read_csv(\"./export.csv\")\n",
    "df[\"md5\"] = df.image_url.apply(calc_md5)\n",
    "df = df.drop_duplicates(subset=[\"md5\"])\n",
    "df.head()"
   ]
  },
  {
   "cell_type": "code",
   "execution_count": 25,
   "metadata": {},
   "outputs": [
    {
     "data": {
      "text/plain": [
       "label\n",
       "0    1608\n",
       "1     181\n",
       "Name: count, dtype: int64"
      ]
     },
     "execution_count": 25,
     "metadata": {},
     "output_type": "execute_result"
    },
    {
     "data": {
      "image/png": "[encoded data removed]",
      "text/plain": [
       "<Figure size 640x480 with 1 Axes>"
      ]
     },
     "metadata": {},
     "output_type": "display_data"
    }
   ],
   "source": [
    "df = df.query(\"label != 2\")\n",
    "df.label.value_counts().plot.bar()\n",
    "df.label.value_counts()"
   ]
  },
  {
   "cell_type": "code",
   "execution_count": 26,
   "metadata": {},
   "outputs": [],
   "source": [
    "df.to_csv(\"cleaned_metadata.csv\")"
   ]
  }
 ],
 "metadata": {
  "kernelspec": {
   "display_name": "Python 3",
   "language": "python",
   "name": "python3"
  },
  "language_info": {
   "codemirror_mode": {
    "name": "ipython",
    "version": 3
   },
   "file_extension": ".py",
   "mimetype": "text/x-python",
   "name": "python",
   "nbconvert_exporter": "python",
   "pygments_lexer": "ipython3",
   "version": "3.10.6"
  },
  "orig_nbformat": 4
 },
 "nbformat": 4,
 "nbformat_minor": 2
}
